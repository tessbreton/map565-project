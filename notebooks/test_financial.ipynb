from sklearn.metrics import accuracy_score

# Assuming you have the true labels stored in a variable called 'true_labels'
true_labels = [1, 0, 1, 0, 1]

# Assuming you have the predicted labels for each copula stored in variables
# 'foo_clayton_predictions', 'foo_gumbel_predictions', and 'foo_frank_predictions'
foo_clayton_predictions = [1, 0, 1, 1, 0]
foo_gumbel_predictions = [0, 0, 1, 0, 1]
foo_frank_predictions = [1, 1, 0, 0, 1]

# Calculate accuracy for each copula
foo_clayton_accuracy = accuracy_score(true_labels, foo_clayton_predictions)
foo_gumbel_accuracy = accuracy_score(true_labels, foo_gumbel_predictions)
foo_frank_accuracy = accuracy_score(true_labels, foo_frank_predictions)

# Print the accuracies
print("Accuracy for foo_clayton:", foo_clayton_accuracy)
print("Accuracy for foo_gumbel:", foo_gumbel_accuracy)
print("Accuracy for foo_frank:", foo_frank_accuracy)